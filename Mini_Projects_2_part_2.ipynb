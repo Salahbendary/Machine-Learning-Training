{
  "nbformat": 4,
  "nbformat_minor": 0,
  "metadata": {
    "colab": {
      "name": "Mini_Projects_2/ part 2.ipynb",
      "provenance": [],
      "include_colab_link": true
    },
    "kernelspec": {
      "name": "python3",
      "display_name": "Python 3"
    }
  },
  "cells": [
    {
      "cell_type": "markdown",
      "metadata": {
        "id": "view-in-github",
        "colab_type": "text"
      },
      "source": [
        "<a href=\"https://colab.research.google.com/github/Salahbendary/Machine-Learning-Training/blob/main/Mini_Projects_2_part_2.ipynb\" target=\"_parent\"><img src=\"https://colab.research.google.com/assets/colab-badge.svg\" alt=\"Open In Colab\"/></a>"
      ]
    },
    {
      "cell_type": "markdown",
      "metadata": {
        "id": "c2sSEq3uSurn"
      },
      "source": [
        "# Files and Exceptions"
      ]
    },
    {
      "cell_type": "markdown",
      "metadata": {
        "id": "qw2XyRs-TWIF"
      },
      "source": [
        "**8. Sum of Numbers** <br>\n",
        "Assume that a file containing a series of integers is named numbers.txt and exists on the computer’s disk. Write a program that reads all of the numbers stored in the file and calculates their total.\n"
      ]
    },
    {
      "cell_type": "code",
      "metadata": {
        "id": "92EStR9KSu8N",
        "colab": {
          "base_uri": "https://localhost:8080/"
        },
        "outputId": "3ba91c8a-d474-43c8-d591-775e308446f7"
      },
      "source": [
        "def main():\n",
        "  total=0.0\n",
        "  myfile = open('numbers.txt', 'r')\n",
        "  for line in myfile:\n",
        "    total+= int(line)\n",
        "  print('The summing of total numbers is:', total)\n",
        "main()"
      ],
      "execution_count": 63,
      "outputs": [
        {
          "output_type": "stream",
          "text": [
            "The summing of total numbers is: 5931486514.0\n"
          ],
          "name": "stdout"
        }
      ]
    },
    {
      "cell_type": "code",
      "metadata": {
        "id": "B7GImG_lSu-u"
      },
      "source": [
        ""
      ],
      "execution_count": null,
      "outputs": []
    },
    {
      "cell_type": "markdown",
      "metadata": {
        "id": "gW0mWcdDVgK4"
      },
      "source": [
        "**9. Average of Numbers** <br>\n",
        "Assume that a file containing a series of integers is named numbers.txt and exists on the computer’s disk. Write a program that calculates the average of all the numbers stored in\n",
        "the file"
      ]
    },
    {
      "cell_type": "code",
      "metadata": {
        "id": "3-DZx-vnSvCe",
        "colab": {
          "base_uri": "https://localhost:8080/"
        },
        "outputId": "7499f1ca-eed6-427c-ca37-445a0eb08b18"
      },
      "source": [
        "def main():\n",
        "  total=0.0\n",
        "  length=0\n",
        "  myfile = open('numbers.txt', 'r')\n",
        "  for line in myfile:\n",
        "    total += float(line)\n",
        "    length+=1\n",
        "  print('The total numbers is :',length)\n",
        "  print('The summing of total numbers is:', total)\n",
        "  avg= total / length\n",
        "  print('The average of numbers is: ',avg)\n",
        "main()"
      ],
      "execution_count": 65,
      "outputs": [
        {
          "output_type": "stream",
          "text": [
            "The total numbers is : 58\n",
            "The summing of total numbers is: 5931486514.0\n",
            "The average of numbers is:  102267008.86206897\n"
          ],
          "name": "stdout"
        }
      ]
    },
    {
      "cell_type": "markdown",
      "metadata": {
        "id": "vjchCYETVwPx"
      },
      "source": [
        "**10. Random Number File Writer**<br>\n",
        "Write a program that writes a series of random numbers to a file. Each random number should be in the range of 1 \n",
        "through 500. The application should let the user specify how\n",
        "many random numbers the file will hold.\n"
      ]
    },
    {
      "cell_type": "code",
      "metadata": {
        "id": "DCyba_BZVxLF",
        "colab": {
          "base_uri": "https://localhost:8080/"
        },
        "outputId": "ad9934d6-4004-48db-f46b-9e98b264fdc5"
      },
      "source": [
        "import random\n",
        "def main():\n",
        "  x=0\n",
        "  myfile = open(\"random.txt\", \"w\")\n",
        "  for i in range(int(input('How many random numbers? '))):\n",
        "    line = str(random.randint(1,500))\n",
        "    myfile.write(line)\n",
        "    x+=1\n",
        "    print('The ' ,x,' number is: ',line)\n",
        "main()"
      ],
      "execution_count": 87,
      "outputs": [
        {
          "output_type": "stream",
          "text": [
            "How many random numbers? 5\n",
            "The  1  number is:  407\n",
            "The  2  number is:  355\n",
            "The  3  number is:  149\n",
            "The  4  number is:  31\n",
            "The  5  number is:  213\n"
          ],
          "name": "stdout"
        }
      ]
    },
    {
      "cell_type": "code",
      "metadata": {
        "id": "uZ7CQJM0VxN5"
      },
      "source": [
        ""
      ],
      "execution_count": null,
      "outputs": []
    },
    {
      "cell_type": "markdown",
      "metadata": {
        "id": "p75ZKqbXWMdY"
      },
      "source": [
        "**11.  Exception Handing** <br>\n",
        "Modify the program that you wrote for Exercise 9 so it handles the following exceptions: <br>\n",
        "* It should handle any IOError exceptions that are raised when the file is opened and data\n",
        "is read from it. <br>\n",
        "* It should handle any ValueError exceptions that are raised when the items that are read from the file are converted to a number."
      ]
    },
    {
      "cell_type": "code",
      "metadata": {
        "id": "22SOHQbrVxRE",
        "colab": {
          "base_uri": "https://localhost:8080/"
        },
        "outputId": "2a1261b3-c78b-4702-8653-afa58f8b63c8"
      },
      "source": [
        "def main():\n",
        "  total=0.0\n",
        "  length=0\n",
        "  try:\n",
        "    myfile = open('numbers.txt', 'r')\n",
        "    for line in myfile:\n",
        "      total += float(line)\n",
        "      length+=1\n",
        "    myfile.close()\n",
        "    print('The total numbers is :',length)\n",
        "    print('The summing of total numbers is:', total)\n",
        "    avg= total / length\n",
        "    print('The average of numbers is: ',avg)\n",
        "  except IOError:\n",
        "        print('An error occurred trying to read the file.')\n",
        "  except ValueError:\n",
        "        print('Non-numeric data found in the file')\n",
        "  except:\n",
        "        print('An error has occurred')\n",
        "main()\n"
      ],
      "execution_count": 89,
      "outputs": [
        {
          "output_type": "stream",
          "text": [
            "The total numbers is : 58\n",
            "The summing of total numbers is: 5931486514.0\n",
            "The average of numbers is:  102267008.86206897\n"
          ],
          "name": "stdout"
        }
      ]
    },
    {
      "cell_type": "code",
      "metadata": {
        "id": "3p0MENR_WrBV"
      },
      "source": [
        ""
      ],
      "execution_count": null,
      "outputs": []
    }
  ]
}